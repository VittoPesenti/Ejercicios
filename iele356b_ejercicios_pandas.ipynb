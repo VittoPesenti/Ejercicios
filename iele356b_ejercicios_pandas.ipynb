{
 "cells": [
  {
   "cell_type": "markdown",
   "metadata": {},
   "source": [
    "# Ejercicios con `pandas`"
   ]
  },
  {
   "cell_type": "markdown",
   "metadata": {},
   "source": [
    "Importe las librerías necesarias:"
   ]
  },
  {
   "cell_type": "code",
   "execution_count": 11,
   "metadata": {},
   "outputs": [],
   "source": [
    "import pandas as pd\n",
    "import matplotlib\n",
    "import scipy\n",
    "import seaborn as sns"
   ]
  },
  {
   "cell_type": "markdown",
   "metadata": {},
   "source": [
    "Imprima las versiones de todas la librerías"
   ]
  },
  {
   "cell_type": "code",
   "execution_count": 3,
   "metadata": {},
   "outputs": [
    {
     "data": {
      "text/plain": [
       "'0.23.0'"
      ]
     },
     "execution_count": 3,
     "metadata": {},
     "output_type": "execute_result"
    }
   ],
   "source": [
    "pandas.__version__\n"
   ]
  },
  {
   "cell_type": "code",
   "execution_count": 4,
   "metadata": {},
   "outputs": [
    {
     "data": {
      "text/plain": [
       "'2.2.2'"
      ]
     },
     "execution_count": 4,
     "metadata": {},
     "output_type": "execute_result"
    }
   ],
   "source": [
    "matplotlib.__version__"
   ]
  },
  {
   "cell_type": "code",
   "execution_count": 5,
   "metadata": {},
   "outputs": [
    {
     "data": {
      "text/plain": [
       "'1.1.0'"
      ]
     },
     "execution_count": 5,
     "metadata": {},
     "output_type": "execute_result"
    }
   ],
   "source": [
    "scipy.__version__"
   ]
  },
  {
   "cell_type": "code",
   "execution_count": 6,
   "metadata": {},
   "outputs": [
    {
     "data": {
      "text/plain": [
       "'0.8.1'"
      ]
     },
     "execution_count": 6,
     "metadata": {},
     "output_type": "execute_result"
    }
   ],
   "source": [
    "sns.__version__"
   ]
  },
  {
   "cell_type": "markdown",
   "metadata": {},
   "source": [
    "Importe los datos desde [aqui](https://raw.githubusercontent.com/justmarkham/DAT8/master/data/chipotle.tsv). Asígnelos a una variable `chipo`."
   ]
  },
  {
   "cell_type": "code",
   "execution_count": 23,
   "metadata": {},
   "outputs": [],
   "source": [
    "chipo= pd.read_table(\"https://raw.githubusercontent.com/justmarkham/DAT8/master/data/chipotle.tsv\") \n",
    "chipo2= pd.read_csv(\"https://raw.githubusercontent.com/justmarkham/DAT8/master/data/chipotle.tsv\", sep=\"\\t\")"
   ]
  },
  {
   "cell_type": "markdown",
   "metadata": {},
   "source": [
    "Muestre las primeras 10 entradas del dataframe"
   ]
  },
  {
   "cell_type": "code",
   "execution_count": 24,
   "metadata": {},
   "outputs": [
    {
     "name": "stdout",
     "output_type": "stream",
     "text": [
      "    order_id  quantity                              item_name  \\\n",
      "0          1         1           Chips and Fresh Tomato Salsa   \n",
      "1          1         1                                   Izze   \n",
      "2          1         1                       Nantucket Nectar   \n",
      "3          1         1  Chips and Tomatillo-Green Chili Salsa   \n",
      "4          2         2                           Chicken Bowl   \n",
      "5          3         1                           Chicken Bowl   \n",
      "6          3         1                          Side of Chips   \n",
      "7          4         1                          Steak Burrito   \n",
      "8          4         1                       Steak Soft Tacos   \n",
      "9          5         1                          Steak Burrito   \n",
      "10         5         1                    Chips and Guacamole   \n",
      "\n",
      "                                   choice_description item_price  \n",
      "0                                                 NaN     $2.39   \n",
      "1                                        [Clementine]     $3.39   \n",
      "2                                             [Apple]     $3.39   \n",
      "3                                                 NaN     $2.39   \n",
      "4   [Tomatillo-Red Chili Salsa (Hot), [Black Beans...    $16.98   \n",
      "5   [Fresh Tomato Salsa (Mild), [Rice, Cheese, Sou...    $10.98   \n",
      "6                                                 NaN     $1.69   \n",
      "7   [Tomatillo Red Chili Salsa, [Fajita Vegetables...    $11.75   \n",
      "8   [Tomatillo Green Chili Salsa, [Pinto Beans, Ch...     $9.25   \n",
      "9   [Fresh Tomato Salsa, [Rice, Black Beans, Pinto...     $9.25   \n",
      "10                                                NaN     $4.45   \n",
      "    order_id  quantity                              item_name  \\\n",
      "0          1         1           Chips and Fresh Tomato Salsa   \n",
      "1          1         1                                   Izze   \n",
      "2          1         1                       Nantucket Nectar   \n",
      "3          1         1  Chips and Tomatillo-Green Chili Salsa   \n",
      "4          2         2                           Chicken Bowl   \n",
      "5          3         1                           Chicken Bowl   \n",
      "6          3         1                          Side of Chips   \n",
      "7          4         1                          Steak Burrito   \n",
      "8          4         1                       Steak Soft Tacos   \n",
      "9          5         1                          Steak Burrito   \n",
      "10         5         1                    Chips and Guacamole   \n",
      "\n",
      "                                   choice_description item_price  \n",
      "0                                                 NaN     $2.39   \n",
      "1                                        [Clementine]     $3.39   \n",
      "2                                             [Apple]     $3.39   \n",
      "3                                                 NaN     $2.39   \n",
      "4   [Tomatillo-Red Chili Salsa (Hot), [Black Beans...    $16.98   \n",
      "5   [Fresh Tomato Salsa (Mild), [Rice, Cheese, Sou...    $10.98   \n",
      "6                                                 NaN     $1.69   \n",
      "7   [Tomatillo Red Chili Salsa, [Fajita Vegetables...    $11.75   \n",
      "8   [Tomatillo Green Chili Salsa, [Pinto Beans, Ch...     $9.25   \n",
      "9   [Fresh Tomato Salsa, [Rice, Black Beans, Pinto...     $9.25   \n",
      "10                                                NaN     $4.45   \n"
     ]
    }
   ],
   "source": [
    "print(chipo.head(11))\n",
    "print(chipo2.head(11))"
   ]
  },
  {
   "cell_type": "markdown",
   "metadata": {},
   "source": [
    "Cual es el número total de observaciones en el dataset?"
   ]
  },
  {
   "cell_type": "code",
   "execution_count": 28,
   "metadata": {},
   "outputs": [
    {
     "data": {
      "text/html": [
       "<div>\n",
       "<style scoped>\n",
       "    .dataframe tbody tr th:only-of-type {\n",
       "        vertical-align: middle;\n",
       "    }\n",
       "\n",
       "    .dataframe tbody tr th {\n",
       "        vertical-align: top;\n",
       "    }\n",
       "\n",
       "    .dataframe thead th {\n",
       "        text-align: right;\n",
       "    }\n",
       "</style>\n",
       "<table border=\"1\" class=\"dataframe\">\n",
       "  <thead>\n",
       "    <tr style=\"text-align: right;\">\n",
       "      <th></th>\n",
       "      <th>order_id</th>\n",
       "      <th>quantity</th>\n",
       "      <th>item_name</th>\n",
       "      <th>choice_description</th>\n",
       "      <th>item_price</th>\n",
       "    </tr>\n",
       "  </thead>\n",
       "  <tbody>\n",
       "    <tr>\n",
       "      <th>4617</th>\n",
       "      <td>1833</td>\n",
       "      <td>1</td>\n",
       "      <td>Steak Burrito</td>\n",
       "      <td>[Fresh Tomato Salsa, [Rice, Black Beans, Sour ...</td>\n",
       "      <td>$11.75</td>\n",
       "    </tr>\n",
       "    <tr>\n",
       "      <th>4618</th>\n",
       "      <td>1833</td>\n",
       "      <td>1</td>\n",
       "      <td>Steak Burrito</td>\n",
       "      <td>[Fresh Tomato Salsa, [Rice, Sour Cream, Cheese...</td>\n",
       "      <td>$11.75</td>\n",
       "    </tr>\n",
       "    <tr>\n",
       "      <th>4619</th>\n",
       "      <td>1834</td>\n",
       "      <td>1</td>\n",
       "      <td>Chicken Salad Bowl</td>\n",
       "      <td>[Fresh Tomato Salsa, [Fajita Vegetables, Pinto...</td>\n",
       "      <td>$11.25</td>\n",
       "    </tr>\n",
       "    <tr>\n",
       "      <th>4620</th>\n",
       "      <td>1834</td>\n",
       "      <td>1</td>\n",
       "      <td>Chicken Salad Bowl</td>\n",
       "      <td>[Fresh Tomato Salsa, [Fajita Vegetables, Lettu...</td>\n",
       "      <td>$8.75</td>\n",
       "    </tr>\n",
       "    <tr>\n",
       "      <th>4621</th>\n",
       "      <td>1834</td>\n",
       "      <td>1</td>\n",
       "      <td>Chicken Salad Bowl</td>\n",
       "      <td>[Fresh Tomato Salsa, [Fajita Vegetables, Pinto...</td>\n",
       "      <td>$8.75</td>\n",
       "    </tr>\n",
       "  </tbody>\n",
       "</table>\n",
       "</div>"
      ],
      "text/plain": [
       "      order_id  quantity           item_name  \\\n",
       "4617      1833         1       Steak Burrito   \n",
       "4618      1833         1       Steak Burrito   \n",
       "4619      1834         1  Chicken Salad Bowl   \n",
       "4620      1834         1  Chicken Salad Bowl   \n",
       "4621      1834         1  Chicken Salad Bowl   \n",
       "\n",
       "                                     choice_description item_price  \n",
       "4617  [Fresh Tomato Salsa, [Rice, Black Beans, Sour ...    $11.75   \n",
       "4618  [Fresh Tomato Salsa, [Rice, Sour Cream, Cheese...    $11.75   \n",
       "4619  [Fresh Tomato Salsa, [Fajita Vegetables, Pinto...    $11.25   \n",
       "4620  [Fresh Tomato Salsa, [Fajita Vegetables, Lettu...     $8.75   \n",
       "4621  [Fresh Tomato Salsa, [Fajita Vegetables, Pinto...     $8.75   "
      ]
     },
     "execution_count": 28,
     "metadata": {},
     "output_type": "execute_result"
    }
   ],
   "source": [
    "# solucion 1\n",
    "chipo.tail()\n"
   ]
  },
  {
   "cell_type": "code",
   "execution_count": 29,
   "metadata": {},
   "outputs": [
    {
     "data": {
      "text/html": [
       "<div>\n",
       "<style scoped>\n",
       "    .dataframe tbody tr th:only-of-type {\n",
       "        vertical-align: middle;\n",
       "    }\n",
       "\n",
       "    .dataframe tbody tr th {\n",
       "        vertical-align: top;\n",
       "    }\n",
       "\n",
       "    .dataframe thead th {\n",
       "        text-align: right;\n",
       "    }\n",
       "</style>\n",
       "<table border=\"1\" class=\"dataframe\">\n",
       "  <thead>\n",
       "    <tr style=\"text-align: right;\">\n",
       "      <th></th>\n",
       "      <th>order_id</th>\n",
       "      <th>quantity</th>\n",
       "      <th>item_name</th>\n",
       "      <th>choice_description</th>\n",
       "      <th>item_price</th>\n",
       "    </tr>\n",
       "  </thead>\n",
       "  <tbody>\n",
       "    <tr>\n",
       "      <th>4617</th>\n",
       "      <td>1833</td>\n",
       "      <td>1</td>\n",
       "      <td>Steak Burrito</td>\n",
       "      <td>[Fresh Tomato Salsa, [Rice, Black Beans, Sour ...</td>\n",
       "      <td>$11.75</td>\n",
       "    </tr>\n",
       "    <tr>\n",
       "      <th>4618</th>\n",
       "      <td>1833</td>\n",
       "      <td>1</td>\n",
       "      <td>Steak Burrito</td>\n",
       "      <td>[Fresh Tomato Salsa, [Rice, Sour Cream, Cheese...</td>\n",
       "      <td>$11.75</td>\n",
       "    </tr>\n",
       "    <tr>\n",
       "      <th>4619</th>\n",
       "      <td>1834</td>\n",
       "      <td>1</td>\n",
       "      <td>Chicken Salad Bowl</td>\n",
       "      <td>[Fresh Tomato Salsa, [Fajita Vegetables, Pinto...</td>\n",
       "      <td>$11.25</td>\n",
       "    </tr>\n",
       "    <tr>\n",
       "      <th>4620</th>\n",
       "      <td>1834</td>\n",
       "      <td>1</td>\n",
       "      <td>Chicken Salad Bowl</td>\n",
       "      <td>[Fresh Tomato Salsa, [Fajita Vegetables, Lettu...</td>\n",
       "      <td>$8.75</td>\n",
       "    </tr>\n",
       "    <tr>\n",
       "      <th>4621</th>\n",
       "      <td>1834</td>\n",
       "      <td>1</td>\n",
       "      <td>Chicken Salad Bowl</td>\n",
       "      <td>[Fresh Tomato Salsa, [Fajita Vegetables, Pinto...</td>\n",
       "      <td>$8.75</td>\n",
       "    </tr>\n",
       "  </tbody>\n",
       "</table>\n",
       "</div>"
      ],
      "text/plain": [
       "      order_id  quantity           item_name  \\\n",
       "4617      1833         1       Steak Burrito   \n",
       "4618      1833         1       Steak Burrito   \n",
       "4619      1834         1  Chicken Salad Bowl   \n",
       "4620      1834         1  Chicken Salad Bowl   \n",
       "4621      1834         1  Chicken Salad Bowl   \n",
       "\n",
       "                                     choice_description item_price  \n",
       "4617  [Fresh Tomato Salsa, [Rice, Black Beans, Sour ...    $11.75   \n",
       "4618  [Fresh Tomato Salsa, [Rice, Sour Cream, Cheese...    $11.75   \n",
       "4619  [Fresh Tomato Salsa, [Fajita Vegetables, Pinto...    $11.25   \n",
       "4620  [Fresh Tomato Salsa, [Fajita Vegetables, Lettu...     $8.75   \n",
       "4621  [Fresh Tomato Salsa, [Fajita Vegetables, Pinto...     $8.75   "
      ]
     },
     "execution_count": 29,
     "metadata": {},
     "output_type": "execute_result"
    }
   ],
   "source": [
    "chipo2.tail()"
   ]
  },
  {
   "cell_type": "code",
   "execution_count": 32,
   "metadata": {},
   "outputs": [
    {
     "data": {
      "text/plain": [
       "order_id              4622\n",
       "quantity              4622\n",
       "item_name             4622\n",
       "choice_description    3376\n",
       "item_price            4622\n",
       "dtype: int64"
      ]
     },
     "execution_count": 32,
     "metadata": {},
     "output_type": "execute_result"
    }
   ],
   "source": [
    "# solucion 2\n",
    "chipo.count()"
   ]
  },
  {
   "cell_type": "markdown",
   "metadata": {},
   "source": [
    "Cuantas columnas hay en el dataset? Copielas a una lista."
   ]
  },
  {
   "cell_type": "code",
   "execution_count": 37,
   "metadata": {},
   "outputs": [
    {
     "name": "stdout",
     "output_type": "stream",
     "text": [
      "5\n"
     ]
    }
   ],
   "source": [
    "largo= len(chipo.columns)\n",
    "print(largo)\n",
    "col= chipo.columns"
   ]
  },
  {
   "cell_type": "markdown",
   "metadata": {},
   "source": [
    "Imprima el nombre de las columnas"
   ]
  },
  {
   "cell_type": "code",
   "execution_count": 38,
   "metadata": {},
   "outputs": [
    {
     "data": {
      "text/plain": [
       "Index(['order_id', 'quantity', 'item_name', 'choice_description',\n",
       "       'item_price'],\n",
       "      dtype='object')"
      ]
     },
     "execution_count": 38,
     "metadata": {},
     "output_type": "execute_result"
    }
   ],
   "source": [
    "col"
   ]
  },
  {
   "cell_type": "markdown",
   "metadata": {},
   "source": [
    "Como está indexado el dataset?"
   ]
  },
  {
   "cell_type": "code",
   "execution_count": 40,
   "metadata": {},
   "outputs": [
    {
     "data": {
      "text/plain": [
       "RangeIndex(start=0, stop=4622, step=1)"
      ]
     },
     "execution_count": 40,
     "metadata": {},
     "output_type": "execute_result"
    }
   ],
   "source": [
    "chipo.index"
   ]
  },
  {
   "cell_type": "markdown",
   "metadata": {},
   "source": [
    "Cual fue el objeto más pedido?"
   ]
  },
  {
   "cell_type": "code",
   "execution_count": 46,
   "metadata": {},
   "outputs": [
    {
     "data": {
      "text/plain": [
       "Chicken Bowl                             726\n",
       "Chicken Burrito                          553\n",
       "Chips and Guacamole                      479\n",
       "Steak Burrito                            368\n",
       "Canned Soft Drink                        301\n",
       "Chips                                    211\n",
       "Steak Bowl                               211\n",
       "Bottled Water                            162\n",
       "Chicken Soft Tacos                       115\n",
       "Chicken Salad Bowl                       110\n",
       "Chips and Fresh Tomato Salsa             110\n",
       "Canned Soda                              104\n",
       "Side of Chips                            101\n",
       "Veggie Burrito                            95\n",
       "Barbacoa Burrito                          91\n",
       "Veggie Bowl                               85\n",
       "Carnitas Bowl                             68\n",
       "Barbacoa Bowl                             66\n",
       "Carnitas Burrito                          59\n",
       "Steak Soft Tacos                          55\n",
       "6 Pack Soft Drink                         54\n",
       "Chips and Tomatillo Red Chili Salsa       48\n",
       "Chicken Crispy Tacos                      47\n",
       "Chips and Tomatillo Green Chili Salsa     43\n",
       "Carnitas Soft Tacos                       40\n",
       "Steak Crispy Tacos                        35\n",
       "Chips and Tomatillo-Green Chili Salsa     31\n",
       "Steak Salad Bowl                          29\n",
       "Nantucket Nectar                          27\n",
       "Barbacoa Soft Tacos                       25\n",
       "Chips and Roasted Chili Corn Salsa        22\n",
       "Chips and Tomatillo-Red Chili Salsa       20\n",
       "Izze                                      20\n",
       "Chips and Roasted Chili-Corn Salsa        18\n",
       "Veggie Salad Bowl                         18\n",
       "Barbacoa Crispy Tacos                     11\n",
       "Barbacoa Salad Bowl                       10\n",
       "Chicken Salad                              9\n",
       "Carnitas Crispy Tacos                      7\n",
       "Veggie Soft Tacos                          7\n",
       "Carnitas Salad Bowl                        6\n",
       "Veggie Salad                               6\n",
       "Burrito                                    6\n",
       "Steak Salad                                4\n",
       "Crispy Tacos                               2\n",
       "Salad                                      2\n",
       "Bowl                                       2\n",
       "Chips and Mild Fresh Tomato Salsa          1\n",
       "Veggie Crispy Tacos                        1\n",
       "Carnitas Salad                             1\n",
       "Name: item_name, dtype: int64"
      ]
     },
     "execution_count": 46,
     "metadata": {},
     "output_type": "execute_result"
    }
   ],
   "source": [
    "chipo.item_name.value_counts()"
   ]
  },
  {
   "cell_type": "markdown",
   "metadata": {},
   "source": [
    "Para el objeto más pedido, cuantos fueron?"
   ]
  },
  {
   "cell_type": "code",
   "execution_count": null,
   "metadata": {},
   "outputs": [],
   "source": [
    "#respondido en la anterior"
   ]
  },
  {
   "cell_type": "markdown",
   "metadata": {},
   "source": [
    "Cual fue el item más pedido en la columna `choice_description`?"
   ]
  },
  {
   "cell_type": "code",
   "execution_count": 47,
   "metadata": {},
   "outputs": [
    {
     "data": {
      "text/plain": [
       "[Diet Coke]                                                                                                                                      134\n",
       "[Coke]                                                                                                                                           123\n",
       "[Sprite]                                                                                                                                          77\n",
       "[Fresh Tomato Salsa, [Rice, Black Beans, Cheese, Sour Cream, Lettuce]]                                                                            42\n",
       "[Fresh Tomato Salsa, [Rice, Black Beans, Cheese, Sour Cream, Guacamole, Lettuce]]                                                                 40\n",
       "[Fresh Tomato Salsa (Mild), [Pinto Beans, Rice, Cheese, Sour Cream]]                                                                              36\n",
       "[Fresh Tomato Salsa, [Rice, Black Beans, Cheese, Sour Cream]]                                                                                     33\n",
       "[Lemonade]                                                                                                                                        33\n",
       "[Fresh Tomato Salsa, [Rice, Cheese, Sour Cream, Lettuce]]                                                                                         29\n",
       "[Fresh Tomato Salsa, [Rice, Black Beans, Cheese]]                                                                                                 28\n",
       "[Coca Cola]                                                                                                                                       26\n",
       "[Fresh Tomato Salsa, [Rice, Cheese, Lettuce]]                                                                                                     26\n",
       "[Fresh Tomato Salsa, [Rice, Black Beans, Cheese, Lettuce]]                                                                                        25\n",
       "[Fresh Tomato Salsa, [Rice, Cheese, Sour Cream]]                                                                                                  23\n",
       "[Fresh Tomato Salsa, [Rice, Black Beans, Cheese, Sour Cream, Guacamole]]                                                                          22\n",
       "[Fresh Tomato Salsa, [Fajita Vegetables, Rice]]                                                                                                   22\n",
       "[Roasted Chili Corn Salsa, [Rice, Black Beans, Cheese, Sour Cream, Lettuce]]                                                                      21\n",
       "[Fresh Tomato Salsa, [Rice, Black Beans, Cheese, Guacamole, Lettuce]]                                                                             21\n",
       "[Fresh Tomato Salsa, [Fajita Vegetables, Rice, Black Beans, Cheese, Sour Cream, Lettuce]]                                                         21\n",
       "[Tomatillo Red Chili Salsa, [Rice, Cheese, Lettuce]]                                                                                              20\n",
       "[Fresh Tomato Salsa, [Fajita Vegetables, Rice, Black Beans, Cheese, Sour Cream, Guacamole, Lettuce]]                                              20\n",
       "[Nestea]                                                                                                                                          20\n",
       "[Tomatillo Red Chili Salsa, [Rice, Cheese, Sour Cream, Lettuce]]                                                                                  20\n",
       "[Fresh Tomato Salsa, [Fajita Vegetables, Rice, Black Beans, Cheese, Guacamole, Lettuce]]                                                          19\n",
       "[Fresh Tomato Salsa, [Fajita Vegetables, Rice, Cheese, Sour Cream, Guacamole, Lettuce]]                                                           19\n",
       "[Dr. Pepper]                                                                                                                                      18\n",
       "[Tomatillo Red Chili Salsa, [Rice, Black Beans, Cheese, Sour Cream, Lettuce]]                                                                     17\n",
       "[Tomatillo Red Chili Salsa, [Rice, Black Beans, Cheese, Sour Cream, Guacamole, Lettuce]]                                                          17\n",
       "[Tomatillo Red Chili Salsa, [Rice, Black Beans, Cheese]]                                                                                          17\n",
       "[Fresh Tomato Salsa, [Cheese, Lettuce]]                                                                                                           17\n",
       "                                                                                                                                                ... \n",
       "[Roasted Chili Corn Salsa, [Rice, Cheese, Sour Cream]]                                                                                             1\n",
       "[Fresh Tomato Salsa, [Sour Cream, Guacamole]]                                                                                                      1\n",
       "[Tomatillo Red Chili Salsa, [Fajita Vegetables, Black Beans, Sour Cream, Cheese, Lettuce]]                                                         1\n",
       "[Roasted Chili Corn Salsa (Medium), [Black Beans, Lettuce]]                                                                                        1\n",
       "[Fresh Tomato Salsa, [Rice, Fajita Vegetables, Sour Cream, Cheese, Lettuce]]                                                                       1\n",
       "[Fresh Tomato Salsa, [Rice, Black Beans, Pinto Beans, Cheese, Guacamole, Lettuce]]                                                                 1\n",
       "[[Fresh Tomato Salsa (Mild), Roasted Chili Corn Salsa (Medium)], [Black Beans, Rice, Fajita Veggies, Cheese, Sour Cream, Guacamole, Lettuce]]      1\n",
       "[Fresh Tomato Salsa (Mild), Fajita Veggies]                                                                                                        1\n",
       "[Tomatillo-Red Chili Salsa (Hot), Lettuce]                                                                                                         1\n",
       "[Roasted Chili Corn Salsa, [Rice, Pinto Beans, Cheese, Guacamole]]                                                                                 1\n",
       "[Tomatillo-Red Chili Salsa (Hot), [Rice, Black Beans, Cheese]]                                                                                     1\n",
       "[Fresh Tomato Salsa, [Fajita Vegetables, Rice, Black Beans, Pinto Beans, Cheese, Sour Cream]]                                                      1\n",
       "[Fresh Tomato Salsa, [Guacamole, Lettuce, Sour Cream, Rice]]                                                                                       1\n",
       "[Fresh Tomato Salsa, [Fajita Vegetables, Cheese, Guacamole, Lettuce]]                                                                              1\n",
       "[Fresh Tomato Salsa, [Sour Cream, Cheese, Rice, Black Beans]]                                                                                      1\n",
       "[Tomatillo Green Chili Salsa, [Black Beans, Cheese, Guacamole, Lettuce]]                                                                           1\n",
       "[Tomatillo Green Chili Salsa, [Rice, Black Beans, Pinto Beans, Cheese, Guacamole]]                                                                 1\n",
       "[Tomatillo-Green Chili Salsa (Medium), [Rice, Black Beans, Sour Cream, Guacamole]]                                                                 1\n",
       "[Roasted Chili Corn Salsa, [Black Beans, Cheese, Guacamole, Lettuce]]                                                                              1\n",
       "[Fresh Tomato Salsa, [Rice, Fajita Vegetables, Sour Cream, Cheese, Lettuce, Guacamole]]                                                            1\n",
       "[Fresh Tomato (Mild), [Lettuce, Cheese]]                                                                                                           1\n",
       "[Tomatillo-Green Chili Salsa (Medium), [Black Beans, Rice, Fajita Veggies, Cheese, Sour Cream, Guacamole, Lettuce]]                                1\n",
       "[Roasted Chili Corn Salsa, [Fajita Vegetables, Rice, Black Beans, Sour Cream, Guacamole, Lettuce]]                                                 1\n",
       "[Roasted Chili Corn Salsa, [Fajita Vegetables, Rice, Guacamole, Lettuce]]                                                                          1\n",
       "[Roasted Chili Corn Salsa (Medium), [Pinto Beans, Black Beans, Rice, Fajita Veggies, Lettuce]]                                                     1\n",
       "[Tomatillo Red Chili Salsa, [Rice, Cheese, Sour Cream, Guacamole]]                                                                                 1\n",
       "[Tomatillo Green Chili Salsa, [Fajita Vegetables, Rice, Black Beans, Cheese, Guacamole, Lettuce]]                                                  1\n",
       "[Fresh Tomato Salsa, [Fajita Vegetables, Rice, Black Beans, Pinto Beans, Cheese]]                                                                  1\n",
       "[Tomatillo-Red Chili Salsa (Hot), [Pinto Beans, Cheese, Sour Cream, Rice, Fajita Veggies, Guacamole]]                                              1\n",
       "[Roasted Chili Corn Salsa, [Rice, Fajita Vegetables, Lettuce, Pinto Beans, Black Beans, Guacamole, Cheese]]                                        1\n",
       "Name: choice_description, Length: 1043, dtype: int64"
      ]
     },
     "execution_count": 47,
     "metadata": {},
     "output_type": "execute_result"
    }
   ],
   "source": [
    "chipo.choice_description.value_counts()"
   ]
  },
  {
   "cell_type": "markdown",
   "metadata": {},
   "source": [
    "Cuantos items fueron pedidos en total?"
   ]
  },
  {
   "cell_type": "code",
   "execution_count": 48,
   "metadata": {},
   "outputs": [
    {
     "data": {
      "text/plain": [
       "<bound method IndexOpsMixin.value_counts of 0                                                     NaN\n",
       "1                                            [Clementine]\n",
       "2                                                 [Apple]\n",
       "3                                                     NaN\n",
       "4       [Tomatillo-Red Chili Salsa (Hot), [Black Beans...\n",
       "5       [Fresh Tomato Salsa (Mild), [Rice, Cheese, Sou...\n",
       "6                                                     NaN\n",
       "7       [Tomatillo Red Chili Salsa, [Fajita Vegetables...\n",
       "8       [Tomatillo Green Chili Salsa, [Pinto Beans, Ch...\n",
       "9       [Fresh Tomato Salsa, [Rice, Black Beans, Pinto...\n",
       "10                                                    NaN\n",
       "11      [Roasted Chili Corn Salsa, [Fajita Vegetables,...\n",
       "12      [Roasted Chili Corn Salsa, [Rice, Black Beans,...\n",
       "13      [Fresh Tomato Salsa, [Fajita Vegetables, Rice,...\n",
       "14                                                    NaN\n",
       "15                                                    NaN\n",
       "16      [Tomatillo-Green Chili Salsa (Medium), [Pinto ...\n",
       "17      [Fresh Tomato Salsa (Mild), [Black Beans, Rice...\n",
       "18                                               [Sprite]\n",
       "19      [Tomatillo Red Chili Salsa, [Fajita Vegetables...\n",
       "20                                                    NaN\n",
       "21      [[Fresh Tomato Salsa (Mild), Tomatillo-Green C...\n",
       "22                                   [Pomegranate Cherry]\n",
       "23      [[Tomatillo-Green Chili Salsa (Medium), Tomati...\n",
       "24                                           [Grapefruit]\n",
       "25                                                    NaN\n",
       "26      [Roasted Chili Corn Salsa (Medium), [Pinto Bea...\n",
       "27      [[Tomatillo-Green Chili Salsa (Medium), Roaste...\n",
       "28                                           [Dr. Pepper]\n",
       "29      [Tomatillo-Green Chili Salsa (Medium), [Pinto ...\n",
       "                              ...                        \n",
       "4592    [Tomatillo Red Chili Salsa, [Rice, Fajita Vege...\n",
       "4593    [Roasted Chili Corn Salsa, [Rice, Sour Cream, ...\n",
       "4594    [Roasted Chili Corn Salsa, [Pinto Beans, Sour ...\n",
       "4595    [Tomatillo Green Chili Salsa, [Rice, Black Bea...\n",
       "4596                                                  NaN\n",
       "4597                                             [Nestea]\n",
       "4598                                                  NaN\n",
       "4599        [Roasted Chili Corn Salsa, [Cheese, Lettuce]]\n",
       "4600                                                  NaN\n",
       "4601                                          [Diet Coke]\n",
       "4602                        [Tomatillo Green Chili Salsa]\n",
       "4603                        [Tomatillo Green Chili Salsa]\n",
       "4604    [Fresh Tomato Salsa, [Rice, Black Beans, Chees...\n",
       "4605                                                  NaN\n",
       "4606                                               [Coke]\n",
       "4607    [Tomatillo Green Chili Salsa, [Rice, Cheese, S...\n",
       "4608    [Tomatillo Red Chili Salsa, [Fajita Vegetables...\n",
       "4609                                             [Sprite]\n",
       "4610    [Fresh Tomato Salsa, [Rice, Sour Cream, Cheese...\n",
       "4611    [Tomatillo Green Chili Salsa, [Rice, Fajita Ve...\n",
       "4612    [Fresh Tomato Salsa, [Fajita Vegetables, Rice,...\n",
       "4613                                                  NaN\n",
       "4614                                                  NaN\n",
       "4615     [Fresh Tomato Salsa, [Rice, Cheese, Sour Cream]]\n",
       "4616                                                  NaN\n",
       "4617    [Fresh Tomato Salsa, [Rice, Black Beans, Sour ...\n",
       "4618    [Fresh Tomato Salsa, [Rice, Sour Cream, Cheese...\n",
       "4619    [Fresh Tomato Salsa, [Fajita Vegetables, Pinto...\n",
       "4620    [Fresh Tomato Salsa, [Fajita Vegetables, Lettu...\n",
       "4621    [Fresh Tomato Salsa, [Fajita Vegetables, Pinto...\n",
       "Name: choice_description, Length: 4622, dtype: object>"
      ]
     },
     "execution_count": 48,
     "metadata": {},
     "output_type": "execute_result"
    }
   ],
   "source": [
    "chipo.choice_description.value_counts"
   ]
  },
  {
   "cell_type": "markdown",
   "metadata": {},
   "source": [
    "Convierte el precio en un `float`"
   ]
  },
  {
   "cell_type": "code",
   "execution_count": 80,
   "metadata": {},
   "outputs": [
    {
     "data": {
      "text/plain": [
       "0        2.39\n",
       "1        3.39\n",
       "2        3.39\n",
       "3        2.39\n",
       "4       16.98\n",
       "5       10.98\n",
       "6        1.69\n",
       "7       11.75\n",
       "8        9.25\n",
       "9        9.25\n",
       "10       4.45\n",
       "11       8.75\n",
       "12       8.75\n",
       "13      11.25\n",
       "14       4.45\n",
       "15       2.39\n",
       "16       8.49\n",
       "17       8.49\n",
       "18       2.18\n",
       "19       8.75\n",
       "20       4.45\n",
       "21       8.99\n",
       "22       3.39\n",
       "23      10.98\n",
       "24       3.39\n",
       "25       2.39\n",
       "26       8.49\n",
       "27       8.99\n",
       "28       1.09\n",
       "29       8.49\n",
       "        ...  \n",
       "4592    11.75\n",
       "4593    11.75\n",
       "4594    11.75\n",
       "4595     8.75\n",
       "4596     4.45\n",
       "4597     1.25\n",
       "4598     1.50\n",
       "4599     8.75\n",
       "4600     4.45\n",
       "4601     1.25\n",
       "4602     9.25\n",
       "4603     9.25\n",
       "4604     8.75\n",
       "4605     4.45\n",
       "4606     1.25\n",
       "4607    11.75\n",
       "4608    11.25\n",
       "4609     1.25\n",
       "4610    11.75\n",
       "4611    11.25\n",
       "4612     9.25\n",
       "4613     2.15\n",
       "4614     1.50\n",
       "4615     8.75\n",
       "4616     4.45\n",
       "4617    11.75\n",
       "4618    11.75\n",
       "4619    11.25\n",
       "4620     8.75\n",
       "4621     8.75\n",
       "Name: item_price, Length: 4622, dtype: float64"
      ]
     },
     "execution_count": 80,
     "metadata": {},
     "output_type": "execute_result"
    }
   ],
   "source": [
    "chipo.item_price = chipo.item_price.replace('\\$','',regex=True)\n",
    "\n",
    "chipo.item_price.astype(float)"
   ]
  },
  {
   "cell_type": "markdown",
   "metadata": {},
   "source": [
    "Cuanto fue la ganancia total en el periodo del dataset?"
   ]
  },
  {
   "cell_type": "code",
   "execution_count": 87,
   "metadata": {},
   "outputs": [
    {
     "name": "stdout",
     "output_type": "stream",
     "text": [
      "<bound method Series.sum of 0        2.39 \n",
      "1        3.39 \n",
      "2        3.39 \n",
      "3        2.39 \n",
      "4       16.98 \n",
      "5       10.98 \n",
      "6        1.69 \n",
      "7       11.75 \n",
      "8        9.25 \n",
      "9        9.25 \n",
      "10       4.45 \n",
      "11       8.75 \n",
      "12       8.75 \n",
      "13      11.25 \n",
      "14       4.45 \n",
      "15       2.39 \n",
      "16       8.49 \n",
      "17       8.49 \n",
      "18       2.18 \n",
      "19       8.75 \n",
      "20       4.45 \n",
      "21       8.99 \n",
      "22       3.39 \n",
      "23      10.98 \n",
      "24       3.39 \n",
      "25       2.39 \n",
      "26       8.49 \n",
      "27       8.99 \n",
      "28       1.09 \n",
      "29       8.49 \n",
      "         ...  \n",
      "4592    11.75 \n",
      "4593    11.75 \n",
      "4594    11.75 \n",
      "4595     8.75 \n",
      "4596     4.45 \n",
      "4597     1.25 \n",
      "4598     1.50 \n",
      "4599     8.75 \n",
      "4600     4.45 \n",
      "4601     1.25 \n",
      "4602     9.25 \n",
      "4603     9.25 \n",
      "4604     8.75 \n",
      "4605     4.45 \n",
      "4606     1.25 \n",
      "4607    11.75 \n",
      "4608    11.25 \n",
      "4609     1.25 \n",
      "4610    11.75 \n",
      "4611    11.25 \n",
      "4612     9.25 \n",
      "4613     2.15 \n",
      "4614     1.50 \n",
      "4615     8.75 \n",
      "4616     4.45 \n",
      "4617    11.75 \n",
      "4618    11.75 \n",
      "4619    11.25 \n",
      "4620     8.75 \n",
      "4621     8.75 \n",
      "Name: item_price, Length: 4622, dtype: object>\n"
     ]
    }
   ],
   "source": [
    "total= chipo[\"item_price\"].sum\n",
    "print(total)"
   ]
  },
  {
   "cell_type": "markdown",
   "metadata": {},
   "source": [
    "Cúantos pedidos se hicieron?"
   ]
  },
  {
   "cell_type": "code",
   "execution_count": null,
   "metadata": {},
   "outputs": [],
   "source": []
  },
  {
   "cell_type": "markdown",
   "metadata": {},
   "source": [
    "Cual fue el promedio de ganancia por orden?"
   ]
  },
  {
   "cell_type": "code",
   "execution_count": null,
   "metadata": {},
   "outputs": [],
   "source": []
  },
  {
   "cell_type": "markdown",
   "metadata": {},
   "source": [
    "Cuántos items se vendieron en total?"
   ]
  },
  {
   "cell_type": "code",
   "execution_count": null,
   "metadata": {},
   "outputs": [],
   "source": []
  }
 ],
 "metadata": {
  "kernelspec": {
   "display_name": "Python 3",
   "language": "python",
   "name": "python3"
  },
  "language_info": {
   "codemirror_mode": {
    "name": "ipython",
    "version": 3
   },
   "file_extension": ".py",
   "mimetype": "text/x-python",
   "name": "python",
   "nbconvert_exporter": "python",
   "pygments_lexer": "ipython3",
   "version": "3.6.5"
  }
 },
 "nbformat": 4,
 "nbformat_minor": 5
}
